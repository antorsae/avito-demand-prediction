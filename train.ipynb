{
 "cells": [
  {
   "cell_type": "code",
   "execution_count": 1,
   "metadata": {},
   "outputs": [
    {
     "name": "stdout",
     "output_type": "stream",
     "text": [
      "['sample_submission.csv', 'data', 'periods_test.csv', 'periods_train.csv', 'test_active.csv', 'test.csv', 'train_active.csv', 'train.csv', '.ipynb_checkpoints', 'best.hdf5', 'train.ipynb', 'submit_nn_p3_0.2260.csv']\n"
     ]
    }
   ],
   "source": [
    "import numpy as np\n",
    "import pandas as pd\n",
    "import gc\n",
    "import os\n",
    "PATH = '.'\n",
    "print(os.listdir(f'{PATH}'))"
   ]
  },
  {
   "cell_type": "code",
   "execution_count": 2,
   "metadata": {},
   "outputs": [],
   "source": [
    "df_train = pd.read_csv(f'{PATH}/train.csv')\n",
    "df_test = pd.read_csv(f'{PATH}/test.csv')\n",
    "\n",
    "df_y_train = df_train['deal_probability']\n",
    "df_x_train = df_train.drop(['deal_probability'], axis=1)"
   ]
  },
  {
   "cell_type": "code",
   "execution_count": 3,
   "metadata": {},
   "outputs": [
    {
     "data": {
      "text/html": [
       "<div>\n",
       "<style scoped>\n",
       "    .dataframe tbody tr th:only-of-type {\n",
       "        vertical-align: middle;\n",
       "    }\n",
       "\n",
       "    .dataframe tbody tr th {\n",
       "        vertical-align: top;\n",
       "    }\n",
       "\n",
       "    .dataframe thead th {\n",
       "        text-align: right;\n",
       "    }\n",
       "</style>\n",
       "<table border=\"1\" class=\"dataframe\">\n",
       "  <thead>\n",
       "    <tr style=\"text-align: right;\">\n",
       "      <th></th>\n",
       "      <th>item_id</th>\n",
       "      <th>user_id</th>\n",
       "      <th>region</th>\n",
       "      <th>city</th>\n",
       "      <th>parent_category_name</th>\n",
       "      <th>category_name</th>\n",
       "      <th>param_1</th>\n",
       "      <th>param_2</th>\n",
       "      <th>param_3</th>\n",
       "      <th>title</th>\n",
       "      <th>description</th>\n",
       "      <th>price</th>\n",
       "      <th>item_seq_number</th>\n",
       "      <th>activation_date</th>\n",
       "      <th>user_type</th>\n",
       "      <th>image</th>\n",
       "      <th>image_top_1</th>\n",
       "    </tr>\n",
       "  </thead>\n",
       "  <tbody>\n",
       "    <tr>\n",
       "      <th>0</th>\n",
       "      <td>b912c3c6a6ad</td>\n",
       "      <td>e00f8ff2eaf9</td>\n",
       "      <td>Свердловская область</td>\n",
       "      <td>Екатеринбург</td>\n",
       "      <td>Личные вещи</td>\n",
       "      <td>Товары для детей и игрушки</td>\n",
       "      <td>Постельные принадлежности</td>\n",
       "      <td>NaN</td>\n",
       "      <td>NaN</td>\n",
       "      <td>Кокоби(кокон для сна)</td>\n",
       "      <td>Кокон для сна малыша,пользовались меньше месяц...</td>\n",
       "      <td>400.0</td>\n",
       "      <td>2</td>\n",
       "      <td>2017-03-28</td>\n",
       "      <td>Private</td>\n",
       "      <td>d10c7e016e03247a3bf2d13348fe959fe6f436c1caf64c...</td>\n",
       "      <td>1008.0</td>\n",
       "    </tr>\n",
       "    <tr>\n",
       "      <th>1</th>\n",
       "      <td>2dac0150717d</td>\n",
       "      <td>39aeb48f0017</td>\n",
       "      <td>Самарская область</td>\n",
       "      <td>Самара</td>\n",
       "      <td>Для дома и дачи</td>\n",
       "      <td>Мебель и интерьер</td>\n",
       "      <td>Другое</td>\n",
       "      <td>NaN</td>\n",
       "      <td>NaN</td>\n",
       "      <td>Стойка для Одежды</td>\n",
       "      <td>Стойка для одежды, под вешалки. С бутика.</td>\n",
       "      <td>3000.0</td>\n",
       "      <td>19</td>\n",
       "      <td>2017-03-26</td>\n",
       "      <td>Private</td>\n",
       "      <td>79c9392cc51a9c81c6eb91eceb8e552171db39d7142700...</td>\n",
       "      <td>692.0</td>\n",
       "    </tr>\n",
       "    <tr>\n",
       "      <th>2</th>\n",
       "      <td>ba83aefab5dc</td>\n",
       "      <td>91e2f88dd6e3</td>\n",
       "      <td>Ростовская область</td>\n",
       "      <td>Ростов-на-Дону</td>\n",
       "      <td>Бытовая электроника</td>\n",
       "      <td>Аудио и видео</td>\n",
       "      <td>Видео, DVD и Blu-ray плееры</td>\n",
       "      <td>NaN</td>\n",
       "      <td>NaN</td>\n",
       "      <td>Philips bluray</td>\n",
       "      <td>В хорошем состоянии, домашний кинотеатр с blu ...</td>\n",
       "      <td>4000.0</td>\n",
       "      <td>9</td>\n",
       "      <td>2017-03-20</td>\n",
       "      <td>Private</td>\n",
       "      <td>b7f250ee3f39e1fedd77c141f273703f4a9be59db4b48a...</td>\n",
       "      <td>3032.0</td>\n",
       "    </tr>\n",
       "    <tr>\n",
       "      <th>3</th>\n",
       "      <td>02996f1dd2ea</td>\n",
       "      <td>bf5cccea572d</td>\n",
       "      <td>Татарстан</td>\n",
       "      <td>Набережные Челны</td>\n",
       "      <td>Личные вещи</td>\n",
       "      <td>Товары для детей и игрушки</td>\n",
       "      <td>Автомобильные кресла</td>\n",
       "      <td>NaN</td>\n",
       "      <td>NaN</td>\n",
       "      <td>Автокресло</td>\n",
       "      <td>Продам кресло от0-25кг</td>\n",
       "      <td>2200.0</td>\n",
       "      <td>286</td>\n",
       "      <td>2017-03-25</td>\n",
       "      <td>Company</td>\n",
       "      <td>e6ef97e0725637ea84e3d203e82dadb43ed3cc0a1c8413...</td>\n",
       "      <td>796.0</td>\n",
       "    </tr>\n",
       "    <tr>\n",
       "      <th>4</th>\n",
       "      <td>7c90be56d2ab</td>\n",
       "      <td>ef50846afc0b</td>\n",
       "      <td>Волгоградская область</td>\n",
       "      <td>Волгоград</td>\n",
       "      <td>Транспорт</td>\n",
       "      <td>Автомобили</td>\n",
       "      <td>С пробегом</td>\n",
       "      <td>ВАЗ (LADA)</td>\n",
       "      <td>2110</td>\n",
       "      <td>ВАЗ 2110, 2003</td>\n",
       "      <td>Все вопросы по телефону.</td>\n",
       "      <td>40000.0</td>\n",
       "      <td>3</td>\n",
       "      <td>2017-03-16</td>\n",
       "      <td>Private</td>\n",
       "      <td>54a687a3a0fc1d68aed99bdaaf551c5c70b761b16fd0a2...</td>\n",
       "      <td>2264.0</td>\n",
       "    </tr>\n",
       "    <tr>\n",
       "      <th>5</th>\n",
       "      <td>51e0962387f7</td>\n",
       "      <td>bbfad0b1ad0a</td>\n",
       "      <td>Татарстан</td>\n",
       "      <td>Чистополь</td>\n",
       "      <td>Личные вещи</td>\n",
       "      <td>Товары для детей и игрушки</td>\n",
       "      <td>Автомобильные кресла</td>\n",
       "      <td>NaN</td>\n",
       "      <td>NaN</td>\n",
       "      <td>Авто люлька</td>\n",
       "      <td>В хорошем состоянии</td>\n",
       "      <td>1300.0</td>\n",
       "      <td>9</td>\n",
       "      <td>2017-03-28</td>\n",
       "      <td>Private</td>\n",
       "      <td>eb6ad1231c59d3dc7e4020e724ffe8e4d302023ddcbb99...</td>\n",
       "      <td>796.0</td>\n",
       "    </tr>\n",
       "    <tr>\n",
       "      <th>6</th>\n",
       "      <td>c4f260a2b48a</td>\n",
       "      <td>08f469d2e6f7</td>\n",
       "      <td>Нижегородская область</td>\n",
       "      <td>Нижний Новгород</td>\n",
       "      <td>Для дома и дачи</td>\n",
       "      <td>Ремонт и строительство</td>\n",
       "      <td>Сантехника и сауна</td>\n",
       "      <td>NaN</td>\n",
       "      <td>NaN</td>\n",
       "      <td>Водонагреватель 100 литров нержавейка плоский</td>\n",
       "      <td>Электро водонагреватель накопительный на 100 л...</td>\n",
       "      <td>11000.0</td>\n",
       "      <td>125</td>\n",
       "      <td>2017-03-23</td>\n",
       "      <td>Private</td>\n",
       "      <td>0330f6ac561f5db1fa8226dd5e7e127b5671d44d075a98...</td>\n",
       "      <td>2823.0</td>\n",
       "    </tr>\n",
       "    <tr>\n",
       "      <th>7</th>\n",
       "      <td>6b71309d6a8a</td>\n",
       "      <td>fef86baa002c</td>\n",
       "      <td>Пермский край</td>\n",
       "      <td>Пермь</td>\n",
       "      <td>Личные вещи</td>\n",
       "      <td>Одежда, обувь, аксессуары</td>\n",
       "      <td>Женская одежда</td>\n",
       "      <td>Джинсы</td>\n",
       "      <td>26</td>\n",
       "      <td>Бойфренды colins</td>\n",
       "      <td>Бойфренды в хорошем состоянии.</td>\n",
       "      <td>500.0</td>\n",
       "      <td>61</td>\n",
       "      <td>2017-03-25</td>\n",
       "      <td>Private</td>\n",
       "      <td>9bab29a519e81c14f4582024adfebd4f11a4ac71d323a6...</td>\n",
       "      <td>567.0</td>\n",
       "    </tr>\n",
       "    <tr>\n",
       "      <th>8</th>\n",
       "      <td>c5b969cb63a2</td>\n",
       "      <td>055825270190</td>\n",
       "      <td>Оренбургская область</td>\n",
       "      <td>Оренбург</td>\n",
       "      <td>Личные вещи</td>\n",
       "      <td>Одежда, обувь, аксессуары</td>\n",
       "      <td>Женская одежда</td>\n",
       "      <td>Платья и юбки</td>\n",
       "      <td>&gt; 50 (XXL)</td>\n",
       "      <td>Платье</td>\n",
       "      <td>54 раз мер очень удобное</td>\n",
       "      <td>500.0</td>\n",
       "      <td>85</td>\n",
       "      <td>2017-03-17</td>\n",
       "      <td>Private</td>\n",
       "      <td>75ce06d1f939a31dfb2af8ac55f08fa998fa336d13ee05...</td>\n",
       "      <td>415.0</td>\n",
       "    </tr>\n",
       "    <tr>\n",
       "      <th>9</th>\n",
       "      <td>b1570962e68c</td>\n",
       "      <td>f9e8f831d94c</td>\n",
       "      <td>Нижегородская область</td>\n",
       "      <td>Нижний Новгород</td>\n",
       "      <td>Личные вещи</td>\n",
       "      <td>Детская одежда и обувь</td>\n",
       "      <td>Для девочек</td>\n",
       "      <td>Обувь</td>\n",
       "      <td>25</td>\n",
       "      <td>Полу ботиночки замш натур.Бамбини</td>\n",
       "      <td>По стельке 15.5см мерить приокский район. Цвет...</td>\n",
       "      <td>400.0</td>\n",
       "      <td>136</td>\n",
       "      <td>2017-03-22</td>\n",
       "      <td>Company</td>\n",
       "      <td>54fb8521135fda77a860bfd2fac6bf46867ab7c06796e3...</td>\n",
       "      <td>46.0</td>\n",
       "    </tr>\n",
       "  </tbody>\n",
       "</table>\n",
       "</div>"
      ],
      "text/plain": [
       "        item_id       user_id                 region              city  \\\n",
       "0  b912c3c6a6ad  e00f8ff2eaf9   Свердловская область      Екатеринбург   \n",
       "1  2dac0150717d  39aeb48f0017      Самарская область            Самара   \n",
       "2  ba83aefab5dc  91e2f88dd6e3     Ростовская область    Ростов-на-Дону   \n",
       "3  02996f1dd2ea  bf5cccea572d              Татарстан  Набережные Челны   \n",
       "4  7c90be56d2ab  ef50846afc0b  Волгоградская область         Волгоград   \n",
       "5  51e0962387f7  bbfad0b1ad0a              Татарстан         Чистополь   \n",
       "6  c4f260a2b48a  08f469d2e6f7  Нижегородская область   Нижний Новгород   \n",
       "7  6b71309d6a8a  fef86baa002c          Пермский край             Пермь   \n",
       "8  c5b969cb63a2  055825270190   Оренбургская область          Оренбург   \n",
       "9  b1570962e68c  f9e8f831d94c  Нижегородская область   Нижний Новгород   \n",
       "\n",
       "  parent_category_name               category_name  \\\n",
       "0          Личные вещи  Товары для детей и игрушки   \n",
       "1      Для дома и дачи           Мебель и интерьер   \n",
       "2  Бытовая электроника               Аудио и видео   \n",
       "3          Личные вещи  Товары для детей и игрушки   \n",
       "4            Транспорт                  Автомобили   \n",
       "5          Личные вещи  Товары для детей и игрушки   \n",
       "6      Для дома и дачи      Ремонт и строительство   \n",
       "7          Личные вещи   Одежда, обувь, аксессуары   \n",
       "8          Личные вещи   Одежда, обувь, аксессуары   \n",
       "9          Личные вещи      Детская одежда и обувь   \n",
       "\n",
       "                       param_1        param_2     param_3  \\\n",
       "0    Постельные принадлежности            NaN         NaN   \n",
       "1                       Другое            NaN         NaN   \n",
       "2  Видео, DVD и Blu-ray плееры            NaN         NaN   \n",
       "3         Автомобильные кресла            NaN         NaN   \n",
       "4                   С пробегом     ВАЗ (LADA)        2110   \n",
       "5         Автомобильные кресла            NaN         NaN   \n",
       "6           Сантехника и сауна            NaN         NaN   \n",
       "7               Женская одежда         Джинсы          26   \n",
       "8               Женская одежда  Платья и юбки  > 50 (XXL)   \n",
       "9                  Для девочек          Обувь          25   \n",
       "\n",
       "                                           title  \\\n",
       "0                          Кокоби(кокон для сна)   \n",
       "1                              Стойка для Одежды   \n",
       "2                                 Philips bluray   \n",
       "3                                     Автокресло   \n",
       "4                                 ВАЗ 2110, 2003   \n",
       "5                                    Авто люлька   \n",
       "6  Водонагреватель 100 литров нержавейка плоский   \n",
       "7                               Бойфренды colins   \n",
       "8                                         Платье   \n",
       "9              Полу ботиночки замш натур.Бамбини   \n",
       "\n",
       "                                         description    price  \\\n",
       "0  Кокон для сна малыша,пользовались меньше месяц...    400.0   \n",
       "1          Стойка для одежды, под вешалки. С бутика.   3000.0   \n",
       "2  В хорошем состоянии, домашний кинотеатр с blu ...   4000.0   \n",
       "3                             Продам кресло от0-25кг   2200.0   \n",
       "4                           Все вопросы по телефону.  40000.0   \n",
       "5                                В хорошем состоянии   1300.0   \n",
       "6  Электро водонагреватель накопительный на 100 л...  11000.0   \n",
       "7                     Бойфренды в хорошем состоянии.    500.0   \n",
       "8                           54 раз мер очень удобное    500.0   \n",
       "9  По стельке 15.5см мерить приокский район. Цвет...    400.0   \n",
       "\n",
       "   item_seq_number activation_date user_type  \\\n",
       "0                2      2017-03-28   Private   \n",
       "1               19      2017-03-26   Private   \n",
       "2                9      2017-03-20   Private   \n",
       "3              286      2017-03-25   Company   \n",
       "4                3      2017-03-16   Private   \n",
       "5                9      2017-03-28   Private   \n",
       "6              125      2017-03-23   Private   \n",
       "7               61      2017-03-25   Private   \n",
       "8               85      2017-03-17   Private   \n",
       "9              136      2017-03-22   Company   \n",
       "\n",
       "                                               image  image_top_1  \n",
       "0  d10c7e016e03247a3bf2d13348fe959fe6f436c1caf64c...       1008.0  \n",
       "1  79c9392cc51a9c81c6eb91eceb8e552171db39d7142700...        692.0  \n",
       "2  b7f250ee3f39e1fedd77c141f273703f4a9be59db4b48a...       3032.0  \n",
       "3  e6ef97e0725637ea84e3d203e82dadb43ed3cc0a1c8413...        796.0  \n",
       "4  54a687a3a0fc1d68aed99bdaaf551c5c70b761b16fd0a2...       2264.0  \n",
       "5  eb6ad1231c59d3dc7e4020e724ffe8e4d302023ddcbb99...        796.0  \n",
       "6  0330f6ac561f5db1fa8226dd5e7e127b5671d44d075a98...       2823.0  \n",
       "7  9bab29a519e81c14f4582024adfebd4f11a4ac71d323a6...        567.0  \n",
       "8  75ce06d1f939a31dfb2af8ac55f08fa998fa336d13ee05...        415.0  \n",
       "9  54fb8521135fda77a860bfd2fac6bf46867ab7c06796e3...         46.0  "
      ]
     },
     "execution_count": 3,
     "metadata": {},
     "output_type": "execute_result"
    }
   ],
   "source": [
    "df_x_train.head(10)\n"
   ]
  },
  {
   "cell_type": "code",
   "execution_count": 4,
   "metadata": {},
   "outputs": [
    {
     "name": "stdout",
     "output_type": "stream",
     "text": [
      "<class 'pandas.core.frame.DataFrame'>\n",
      "RangeIndex: 1503424 entries, 0 to 1503423\n",
      "Data columns (total 17 columns):\n",
      "item_id                 1503424 non-null object\n",
      "user_id                 1503424 non-null object\n",
      "region                  1503424 non-null object\n",
      "city                    1503424 non-null object\n",
      "parent_category_name    1503424 non-null object\n",
      "category_name           1503424 non-null object\n",
      "param_1                 1441848 non-null object\n",
      "param_2                 848882 non-null object\n",
      "param_3                 640859 non-null object\n",
      "title                   1503424 non-null object\n",
      "description             1387148 non-null object\n",
      "price                   1418062 non-null float64\n",
      "item_seq_number         1503424 non-null int64\n",
      "activation_date         1503424 non-null object\n",
      "user_type               1503424 non-null object\n",
      "image                   1390836 non-null object\n",
      "image_top_1             1390836 non-null float64\n",
      "dtypes: float64(2), int64(1), object(14)\n",
      "memory usage: 195.0+ MB\n"
     ]
    }
   ],
   "source": [
    "df_x_train.info()\n"
   ]
  },
  {
   "cell_type": "code",
   "execution_count": 5,
   "metadata": {},
   "outputs": [
    {
     "name": "stdout",
     "output_type": "stream",
     "text": [
      "<class 'pandas.core.frame.DataFrame'>\n",
      "RangeIndex: 508438 entries, 0 to 508437\n",
      "Data columns (total 17 columns):\n",
      "item_id                 508438 non-null object\n",
      "user_id                 508438 non-null object\n",
      "region                  508438 non-null object\n",
      "city                    508438 non-null object\n",
      "parent_category_name    508438 non-null object\n",
      "category_name           508438 non-null object\n",
      "param_1                 485528 non-null object\n",
      "param_2                 275209 non-null object\n",
      "param_3                 202107 non-null object\n",
      "title                   508438 non-null object\n",
      "description             508438 non-null object\n",
      "price                   477853 non-null float64\n",
      "item_seq_number         508438 non-null int64\n",
      "activation_date         508438 non-null object\n",
      "user_type               508438 non-null object\n",
      "image                   465829 non-null object\n",
      "image_top_1             465829 non-null float64\n",
      "dtypes: float64(2), int64(1), object(14)\n",
      "memory usage: 65.9+ MB\n"
     ]
    }
   ],
   "source": [
    "df_test.info()\n"
   ]
  },
  {
   "cell_type": "code",
   "execution_count": 6,
   "metadata": {},
   "outputs": [
    {
     "name": "stdout",
     "output_type": "stream",
     "text": [
      "item_id 1503424\n",
      "user_id 771769\n",
      "region 28\n",
      "city 1733\n",
      "parent_category_name 9\n",
      "category_name 47\n",
      "param_1 372\n",
      "param_2 272\n",
      "param_3 1220\n",
      "title 788377\n",
      "description 1317103\n",
      "price 17007\n",
      "item_seq_number 28232\n",
      "activation_date 21\n",
      "user_type 3\n",
      "image 1390837\n",
      "image_top_1 3063\n"
     ]
    }
   ],
   "source": [
    "# viewing # of unique value in each column \n",
    "for col in df_x_train.columns:\n",
    "    print(col, len(df_x_train[col].unique()))"
   ]
  },
  {
   "cell_type": "code",
   "execution_count": 7,
   "metadata": {},
   "outputs": [],
   "source": [
    "df_x_train['image_top_1'].fillna(value=3067, inplace=True)\n",
    "df_test['image_top_1'].fillna(value=3067, inplace=True)\n"
   ]
  },
  {
   "cell_type": "code",
   "execution_count": 8,
   "metadata": {},
   "outputs": [],
   "source": [
    "df_x_train['param_1'].fillna(value='_NA_', inplace=True)\n",
    "df_test['param_1'].fillna(value='_NA_', inplace=True)\n",
    "\n",
    "df_x_train['param_2'].fillna(value='_NA_', inplace=True)\n",
    "df_test['param_2'].fillna(value='_NA_', inplace=True)\n",
    "\n",
    "df_x_train['param_3'].fillna(value='_NA_', inplace=True)\n",
    "df_test['param_3'].fillna(value='_NA_', inplace=True)"
   ]
  },
  {
   "cell_type": "code",
   "execution_count": 9,
   "metadata": {},
   "outputs": [],
   "source": [
    "df_x_train['description'].fillna(value='_NA_', inplace=True)\n",
    "df_test['description'].fillna(value='_NA_', inplace=True)"
   ]
  },
  {
   "cell_type": "code",
   "execution_count": 10,
   "metadata": {},
   "outputs": [
    {
     "name": "stderr",
     "output_type": "stream",
     "text": [
      "/home/antor/miniconda3/lib/python3.6/site-packages/h5py/__init__.py:36: FutureWarning: Conversion of the second argument of issubdtype from `float` to `np.floating` is deprecated. In future, it will be treated as `np.float64 == np.dtype(float).type`.\n",
      "  from ._conv import register_converters as _register_converters\n",
      "Using TensorFlow backend.\n"
     ]
    }
   ],
   "source": [
    "from keras.preprocessing.text import Tokenizer\n",
    "from keras.utils import to_categorical\n",
    "import argparse\n",
    "\n",
    "#create config init\n",
    "config = argparse.Namespace()\n"
   ]
  },
  {
   "cell_type": "code",
   "execution_count": 11,
   "metadata": {},
   "outputs": [],
   "source": [
    "def tknzr_fit(col, df_trn, df_test):\n",
    "    tknzr = Tokenizer(filters='', lower=False, split=' ', oov_token='oov' )\n",
    "    tknzr.fit_on_texts(df_trn[col])\n",
    "    return np.array(tknzr.texts_to_sequences(df_trn[col])), np.array(tknzr.texts_to_sequences(df_test[col])), tknzr"
   ]
  },
  {
   "cell_type": "code",
   "execution_count": 12,
   "metadata": {},
   "outputs": [],
   "source": [
    "def to_categorical_idx(col, df_trn, df_test):\n",
    "    merged = pd.concat([df_trn[col], df_test[col]])\n",
    "    train_size = df_trn[col].shape[0]\n",
    "    idxs, uniques = pd.factorize(merged)\n",
    "    \n",
    "    return idxs[:train_size], idxs[train_size:], uniques"
   ]
  },
  {
   "cell_type": "code",
   "execution_count": 13,
   "metadata": {},
   "outputs": [],
   "source": [
    "df_x_train['param_1'].unique()\n",
    "tr_reg, te_reg, tknzr_reg = to_categorical_idx('region', df_x_train, df_test)\n"
   ]
  },
  {
   "cell_type": "code",
   "execution_count": 14,
   "metadata": {},
   "outputs": [],
   "source": [
    "tr_reg, te_reg, tknzr_reg    = to_categorical_idx('region', df_x_train, df_test)\n",
    "tr_pcn, te_pcn, tknzr_pcn    = to_categorical_idx('parent_category_name', df_x_train, df_test)\n",
    "tr_cn, te_cn, tknzr_cn       = to_categorical_idx('category_name', df_x_train, df_test)\n",
    "tr_ut, te_ut, tknzr_ut       = to_categorical_idx('user_type', df_x_train, df_test)\n",
    "tr_city, te_city, tknzr_city = to_categorical_idx('city', df_x_train, df_test)\n",
    "\n",
    "tr_p1, te_p1, tknzr_p1 = to_categorical_idx('param_1', df_x_train, df_test)\n",
    "tr_p2, te_p2, tknzr_p2 = to_categorical_idx('param_2', df_x_train, df_test)\n",
    "tr_p3, te_p3, tknzr_p3 = to_categorical_idx('param_3', df_x_train, df_test)"
   ]
  },
  {
   "cell_type": "code",
   "execution_count": 15,
   "metadata": {},
   "outputs": [],
   "source": [
    "tr_week = pd.to_datetime(df_x_train['activation_date']).dt.weekday.astype(np.int32).values\n",
    "te_week = pd.to_datetime(df_test['activation_date']).dt.weekday.astype(np.int32).values\n",
    "tr_week = np.expand_dims(tr_week, axis=-1)\n",
    "te_week = np.expand_dims(te_week, axis=-1)"
   ]
  },
  {
   "cell_type": "code",
   "execution_count": 16,
   "metadata": {},
   "outputs": [],
   "source": [
    "tr_imgt1 = df_x_train['image_top_1'].astype(np.int32).values\n",
    "te_imgt1 = df_test['image_top_1'].astype(np.int32).values\n",
    "tr_imgt1 = np.expand_dims(tr_imgt1, axis=-1)\n",
    "te_imgt1 = np.expand_dims(te_imgt1, axis=-1)"
   ]
  },
  {
   "cell_type": "code",
   "execution_count": 17,
   "metadata": {},
   "outputs": [],
   "source": [
    "eps = 1e-10\n",
    "tr_price = np.log(df_x_train['price']+eps)\n",
    "te_price = np.log(df_test['price']+eps)\n",
    "tr_price[tr_price.isna()] = -1.\n",
    "te_price[te_price.isna()] = -1.\n",
    "\n",
    "tr_price = np.expand_dims(tr_price, axis=-1)\n",
    "te_price = np.expand_dims(te_price, axis=-1)"
   ]
  },
  {
   "cell_type": "code",
   "execution_count": 18,
   "metadata": {},
   "outputs": [],
   "source": [
    "tr_itemseq = np.log(df_x_train['item_seq_number'])\n",
    "te_itemseq = np.log(df_test['item_seq_number'])\n",
    "#tr_itemseq = df_x_train['item_seq_number']\n",
    "#te_itemseq = df_test['item_seq_number']\n",
    "# price_tr[price_tr.isna()] = -1.\n",
    "# price_te[price_te.isna()] = -1.\n",
    "\n",
    "tr_itemseq = np.expand_dims(tr_itemseq, axis=-1)\n",
    "te_itemseq = np.expand_dims(te_itemseq, axis=-1)"
   ]
  },
  {
   "cell_type": "code",
   "execution_count": 19,
   "metadata": {},
   "outputs": [],
   "source": [
    "config.len_desc = 100000\n"
   ]
  },
  {
   "cell_type": "code",
   "execution_count": 20,
   "metadata": {},
   "outputs": [],
   "source": [
    "from keras.preprocessing.sequence import pad_sequences\n"
   ]
  },
  {
   "cell_type": "code",
   "execution_count": 21,
   "metadata": {},
   "outputs": [],
   "source": [
    "tknzr_desc = Tokenizer(num_words=config.len_desc, lower=True)\n"
   ]
  },
  {
   "cell_type": "code",
   "execution_count": 22,
   "metadata": {},
   "outputs": [],
   "source": [
    "tknzr_desc.fit_on_texts(df_x_train['description'].values)\n"
   ]
  },
  {
   "cell_type": "code",
   "execution_count": null,
   "metadata": {},
   "outputs": [],
   "source": [
    "tr_desc_seq = tknzr_desc.texts_to_sequences(df_x_train['description'].values)\n",
    "te_desc_seq = tknzr_desc.texts_to_sequences(df_test['description'].values)\n"
   ]
  },
  {
   "cell_type": "code",
   "execution_count": null,
   "metadata": {},
   "outputs": [],
   "source": [
    "config.maxlen= 256\n"
   ]
  },
  {
   "cell_type": "code",
   "execution_count": null,
   "metadata": {},
   "outputs": [],
   "source": [
    "tr_desc_pad = pad_sequences(tr_desc_seq, maxlen=config.maxlen)\n",
    "te_desc_pad = pad_sequences(te_desc_seq, maxlen=config.maxlen)\n"
   ]
  },
  {
   "cell_type": "code",
   "execution_count": null,
   "metadata": {},
   "outputs": [],
   "source": [
    "gc.collect()\n"
   ]
  },
  {
   "cell_type": "code",
   "execution_count": null,
   "metadata": {},
   "outputs": [],
   "source": [
    "## categorical\n",
    "config.len_reg   = len(tknzr_reg)\n",
    "config.len_pcn   = len(tknzr_pcn)\n",
    "config.len_cn    = len(tknzr_cn) \n",
    "config.len_ut    = len(tknzr_ut)\n",
    "config.len_city  = len(tknzr_city) +1\n",
    "config.len_week  = 7\n",
    "config.len_imgt1 = int(df_x_train['image_top_1'].max())+1\n",
    "config.len_p1    = len(tknzr_p1)+1\n",
    "config.len_p2    = len(tknzr_p2)+1\n",
    "config.len_p3    = len(tknzr_p3)+1\n",
    "\n",
    "## continuous\n",
    "config.len_price   = 1\n",
    "config.len_itemseq = 1\n"
   ]
  },
  {
   "cell_type": "code",
   "execution_count": null,
   "metadata": {},
   "outputs": [],
   "source": [
    "## categorical\n",
    "max_emb = 64\n",
    "config.emb_reg   = min(max_emb,(config.len_reg   + 1)//2)\n",
    "config.emb_pcn   = min(max_emb,(config.len_pcn   + 1)//2)\n",
    "config.emb_cn    = min(max_emb,(config.len_cn    + 1)//2)\n",
    "config.emb_ut    = min(max_emb,(config.len_ut    + 1)//2)\n",
    "config.emb_city  = min(max_emb,(config.len_city  + 1)//2)\n",
    "config.emb_week  = min(max_emb,(config.len_week  + 1)//2)\n",
    "config.emb_imgt1 = min(max_emb,(config.len_imgt1 + 1)//2)\n",
    "config.emb_p1    = min(max_emb,(config.len_p1    + 1)//2)\n",
    "config.emb_p2    = min(max_emb,(config.len_p2    + 1)//2)\n",
    "config.emb_p3    = min(max_emb,(config.len_p3    + 1)//2)\n",
    "\n",
    "#continuous\n",
    "config.emb_price   = 16\n",
    "config.emb_itemseq = 16\n",
    "\n",
    "#text\n",
    "config.emb_desc = 256"
   ]
  },
  {
   "cell_type": "code",
   "execution_count": null,
   "metadata": {},
   "outputs": [],
   "source": [
    "valid_idx = df_y_train.sample(frac=0.2, random_state=1991).index\n",
    "train_idx = df_y_train[np.invert(df_y_train.index.isin(valid_idx))].index"
   ]
  },
  {
   "cell_type": "code",
   "execution_count": null,
   "metadata": {},
   "outputs": [],
   "source": [
    "[print(k.shape) for k in [tr_reg, tr_pcn, tr_cn, tr_ut, tr_city, tr_week, tr_imgt1, tr_p1, tr_p2, tr_p3, tr_price, tr_itemseq]]\n",
    "X      = np.array([tr_reg, tr_pcn, tr_cn, tr_ut.squeeze(), tr_city, tr_week.squeeze(), tr_imgt1.squeeze(), tr_p1, tr_p2, tr_p3, tr_price.squeeze(), tr_itemseq.squeeze()])\n",
    "X_test = np.array([te_reg, te_pcn, te_cn, te_ut.squeeze(), te_city, te_week.squeeze(), te_imgt1.squeeze(), te_p1, te_p2, te_p3, te_price.squeeze(), te_itemseq.squeeze()])\n",
    "\n",
    "Y = df_y_train"
   ]
  },
  {
   "cell_type": "code",
   "execution_count": null,
   "metadata": {},
   "outputs": [],
   "source": [
    "tr_reg"
   ]
  },
  {
   "cell_type": "code",
   "execution_count": null,
   "metadata": {},
   "outputs": [],
   "source": [
    "X_train = [x[train_idx] for x in X]\n",
    "X_valid = [x[valid_idx] for x in X]\n",
    "X_test = [x for x in X_test]\n",
    "\n",
    "Y_train = Y[train_idx]\n",
    "Y_valid = Y[valid_idx]"
   ]
  },
  {
   "cell_type": "code",
   "execution_count": null,
   "metadata": {},
   "outputs": [],
   "source": [
    "X_train.append(tr_desc_pad[train_idx])\n",
    "X_valid.append(tr_desc_pad[valid_idx])\n",
    "X_test.append(te_desc_pad)"
   ]
  },
  {
   "cell_type": "code",
   "execution_count": null,
   "metadata": {},
   "outputs": [],
   "source": [
    "gc.collect()\n"
   ]
  },
  {
   "cell_type": "code",
   "execution_count": null,
   "metadata": {},
   "outputs": [],
   "source": [
    "from keras.layers import Input, Embedding, Dense, BatchNormalization, Activation, Dropout\n",
    "from keras.layers import GlobalMaxPool1D, GlobalMaxPool2D\n",
    "from keras.layers import concatenate, Flatten\n",
    "from keras.layers import LSTM, CuDNNGRU, CuDNNLSTM, GRU\n",
    "from keras.models import Model\n",
    "from keras.utils import multi_gpu_model\n",
    "\n",
    "from keras import backend as K\n",
    "\n",
    "from keras.optimizers import RMSprop, Adam, SGD\n",
    "from keras.callbacks import ModelCheckpoint, EarlyStopping, ReduceLROnPlateau\n",
    "\n",
    "from keras_contrib.layers.normalization import InstanceNormalization\n",
    "\n",
    "### rmse loss for keras\n",
    "def root_mean_squared_error(y_true, y_pred):\n",
    "    return K.sqrt(K.mean(K.square(y_pred - y_true))) "
   ]
  },
  {
   "cell_type": "code",
   "execution_count": null,
   "metadata": {},
   "outputs": [],
   "source": [
    "config.batch_size = 4096\n"
   ]
  },
  {
   "cell_type": "code",
   "execution_count": null,
   "metadata": {},
   "outputs": [],
   "source": [
    "def get_model():\n",
    "    do = 0.30\n",
    "    K.clear_session()\n",
    "    inp_reg = Input(shape=(1, ), name='inp_region')\n",
    "    emb_reg = Embedding(config.len_reg, config.emb_reg, name='emb_region')(inp_reg)\n",
    "    \n",
    "    inp_pcn = Input(shape=(1, ), name='inp_parent_category_name')\n",
    "    emb_pcn = Embedding(config.len_pcn, config.emb_pcn, name='emb_parent_category_name')(inp_pcn)\n",
    "\n",
    "    inp_cn = Input(shape=(1, ), name='inp_category_name')\n",
    "    emb_cn = Embedding(config.len_cn, config.emb_cn, name=\"emb_category_name\" )(inp_cn)\n",
    "    \n",
    "    inp_ut = Input(shape=(1, ), name='inp_user_type')\n",
    "    emb_ut = Embedding(config.len_ut, config.emb_ut, name='emb_user_type' )(inp_ut)\n",
    "    \n",
    "    inp_city = Input(shape=(1, ), name='inp_city')\n",
    "    emb_city = Embedding(config.len_city, config.emb_city, name='emb_city' )(inp_city)\n",
    "\n",
    "    inp_week = Input(shape=(1, ), name='inp_week')\n",
    "    emb_week = Embedding(config.len_week, config.emb_week, name='emb_week' )(inp_week)\n",
    "\n",
    "    inp_imgt1 = Input(shape=(1, ), name='inp_imgt1')\n",
    "    emb_imgt1 = Embedding(config.len_imgt1, config.emb_imgt1, name='emb_imgt1')(inp_imgt1)\n",
    "    \n",
    "    inp_p1 = Input(shape=(1, ), name='inp_p1')\n",
    "    emb_p1 = Embedding(config.len_p1, config.emb_p1, name='emb_p1')(inp_p1)\n",
    "    \n",
    "    inp_p2 = Input(shape=(1, ), name='inp_p2')\n",
    "    emb_p2 = Embedding(config.len_p2, config.emb_p2, name='emb_p2')(inp_p2)\n",
    "    \n",
    "    inp_p3 = Input(shape=(1, ), name='inp_p3')\n",
    "    emb_p3 = Embedding(config.len_p3, config.emb_p3, name='emb_p3')(inp_p3)\n",
    "    \n",
    "    conc_cate = concatenate([emb_reg, emb_pcn,  emb_cn, emb_ut, emb_city, emb_week, emb_imgt1, emb_p1, emb_p2, emb_p3], axis=-1, name='concat_categorcal_vars')\n",
    "    conc_cate = Flatten()(conc_cate)\n",
    "    \n",
    "    inp_price = Input(shape=(1, ), name='inp_price')\n",
    "    emb_price = inp_price#InstanceNormalization()(inp_price)\n",
    "    #emb_price = Dense(config.emb_price, activation='tanh', name='emb_price')(inp_price)\n",
    "\n",
    "    inp_itemseq = Input(shape=(1, ), name='inp_itemseq')\n",
    "    emb_itemseq = inp_itemseq# InstanceNormalization()(inp_itemseq)\n",
    "    emb_itemseq = Dense(config.emb_itemseq, activation='tanh', name='emb_itemseq')(emb_itemseq)\n",
    "    \n",
    "#    conc_cont = concatenate([conc_cate, emb_price, emb_itemseq], axis=-1)\n",
    "    conc_cont = concatenate([conc_cate, emb_price, emb_itemseq], axis=-1)\n",
    "    x = Dense(512)(conc_cont)\n",
    "    #x = BatchNormalization()(x)\n",
    "    x = Activation(activation='relu')(x)\n",
    "    \n",
    "    x = Dense(256)(x)\n",
    "    #x = BatchNormalization()(x)\n",
    "    x = Activation(activation='relu')(x)\n",
    "    x = Dropout(do)(x)\n",
    "\n",
    "    x = Dense(128)(x)\n",
    "   # x = BatchNormalization()(x)\n",
    "    x = Activation(activation='relu')(x)\n",
    "    x = Dropout(do)(x)\n",
    "\n",
    "    ### text\n",
    "    inp_desc = Input(shape=(config.maxlen, ), name='inp_desc')\n",
    "    emb_desc = Embedding(config.len_desc, config.emb_desc, name='emb_desc')(inp_desc)\n",
    "    \n",
    "    desc_layer = CuDNNGRU(128, return_sequences=True)(emb_desc)\n",
    "    desc_layer = CuDNNGRU(128, return_sequences=True)(desc_layer)\n",
    "    desc_layer = CuDNNGRU(128, return_sequences=True)(desc_layer)\n",
    "    desc_layer = CuDNNGRU(128, return_sequences=False)(desc_layer)\n",
    "\n",
    "    conc_desc = concatenate([x, desc_layer], axis=-1)\n",
    "    conc_desc = Dense(128)(conc_desc)\n",
    "    #conc_desc = BatchNormalization()(conc_desc)\n",
    "    conc_desc = Activation(activation='relu')(conc_desc)\n",
    "    \n",
    "    conc_desc = Dense(64)(conc_desc)\n",
    "    #conc_desc = BatchNormalization()(conc_desc)\n",
    "    conc_desc = Activation(activation='relu')(conc_desc)\n",
    "    conc_desc = Dropout(do)(conc_desc)\n",
    "\n",
    "    conc_desc = Dense(32)(conc_desc)\n",
    "    #conc_desc = BatchNormalization()(conc_desc)\n",
    "    conc_desc = Activation(activation='relu')(conc_desc)\n",
    "    conc_desc = Dropout(do)(conc_desc)\n",
    "\n",
    "###\n",
    "\n",
    "    outp = Dense(1, activation='sigmoid', name='output')(conc_desc)\n",
    "\n",
    "    model = Model(inputs = [inp_reg, inp_pcn, inp_cn, inp_ut, inp_city, inp_week, inp_imgt1, inp_p1, inp_p2, inp_p3,\n",
    "                            inp_price, inp_itemseq, inp_desc], outputs = outp)\n",
    "    return model\n"
   ]
  },
  {
   "cell_type": "code",
   "execution_count": null,
   "metadata": {},
   "outputs": [],
   "source": [
    "model = get_model()\n",
    "model.summary()\n",
    "model = multi_gpu_model(model, gpus=2)\n",
    "model.compile(optimizer=Adam(lr=1e-3, amsgrad=True), loss = root_mean_squared_error, metrics=[root_mean_squared_error])\n",
    "# model.compile(optimizer=RMSprop(lr=0.0005, decay=0.00001), loss = root_mean_squared_error, metrics=['mse', root_mean_squared_error])\n"
   ]
  },
  {
   "cell_type": "code",
   "execution_count": null,
   "metadata": {},
   "outputs": [],
   "source": [
    "### callbacks\n",
    "checkpoint = ModelCheckpoint('best.hdf5', monitor='val_loss', verbose=1, save_best_only=True)\n",
    "early = EarlyStopping(patience=5, mode='min')\n",
    "reduce_lr = ReduceLROnPlateau(monitor='val_loss', factor=0.5, patience=2, min_lr=1e-7, verbose=1, mode='min')\n"
   ]
  },
  {
   "cell_type": "code",
   "execution_count": null,
   "metadata": {},
   "outputs": [],
   "source": [
    "model.fit(x=X_train, y=Y_train, validation_data=(X_valid, Y_valid), batch_size=config.batch_size, epochs=100, callbacks=[checkpoint,early,reduce_lr], verbose=1)"
   ]
  },
  {
   "cell_type": "code",
   "execution_count": null,
   "metadata": {},
   "outputs": [],
   "source": [
    "pred = model.predict(X_test)\n",
    "\n",
    "subm = pd.read_csv(f'{PATH}/sample_submission.csv')\n",
    "subm['deal_probability'] = pred\n",
    "subm.to_csv('submit_{}_{:.4f}.csv'.format('nn_p3', 0.226), index=False)"
   ]
  },
  {
   "cell_type": "code",
   "execution_count": null,
   "metadata": {},
   "outputs": [],
   "source": []
  }
 ],
 "metadata": {
  "kernelspec": {
   "display_name": "Python [default]",
   "language": "python",
   "name": "python3"
  },
  "language_info": {
   "codemirror_mode": {
    "name": "ipython",
    "version": 3
   },
   "file_extension": ".py",
   "mimetype": "text/x-python",
   "name": "python",
   "nbconvert_exporter": "python",
   "pygments_lexer": "ipython3",
   "version": "3.6.3"
  }
 },
 "nbformat": 4,
 "nbformat_minor": 2
}
