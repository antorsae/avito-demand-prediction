{
 "cells": [
  {
   "cell_type": "code",
   "execution_count": 2,
   "metadata": {},
   "outputs": [],
   "source": [
    "import numpy as np\n",
    "import pandas as pd\n",
    "\n",
    "import matplotlib as mpl\n",
    "mpl.use('Agg')\n",
    "import matplotlib.pyplot as plt\n",
    "#import seaborn as sns\n",
    "import pickle"
   ]
  },
  {
   "cell_type": "code",
   "execution_count": null,
   "metadata": {},
   "outputs": [],
   "source": [
    "\n",
    "\n",
    "THRESHOLD = 500\n",
    "PEAKS_MAP = dict()\n",
    "\n",
    "fig = plt.figure()\n",
    "\n",
    "#df_x_train = pd.read_feather('df_x_train')\n",
    "#df_test    = pd.read_feather('df_test')\n",
    "#df_y_train = pd.read_feather('df_y_train')\n",
    "\n",
    "\n",
    "probs = df_y_train['deal_probability'].values\n",
    "categories = df_x_train['category_name'].values\n",
    "\n",
    "print(\"Total:\", probs.shape, categories.shape)\n",
    "print(\"Categories:\", np.unique(categories))\n",
    "\n",
    "unique_categories = np.unique(categories)\n",
    "for cat in unique_categories:\n",
    "    print(cat, probs[categories == cat].shape)\n",
    "    cat_probs = probs[categories == cat]\n",
    "    n, bins, _ = plt.hist(cat_probs, color='blue', bins=100)\n",
    "    print(n.shape, bins.shape)\n",
    "    weights = n[n > THRESHOLD]\n",
    "    n = np.append(n, 1.0)\n",
    "    peaks = bins[n > THRESHOLD]\n",
    "    print(weights, peaks)\n",
    "\n",
    "    PEAKS_MAP[cat] = (peaks, weights)\n",
    "\n",
    "if True:\n",
    "    plt.gcf().clear()\n",
    "    cat_probs = probs[categories == cat]\n",
    "    n, bins, _ = plt.hist(cat_probs, color='blue', bins=100)\n",
    "    fig.savefig(\"output.png\")\n",
    "\n",
    "    n = np.select([n > THRESHOLD, n <= THRESHOLD], [n, n * 0])\n",
    "\n",
    "    weights = np.ones_like(cat_probs)\n",
    "    for i in range(cat_probs.shape[0]):\n",
    "        edge = np.argwhere(bins <= cat_probs[i])[-1][0]\n",
    "        if edge == 100:\n",
    "            edge = 99\n",
    "\n",
    "        if n[edge] == 0:\n",
    "            weights[i] = 0\n",
    "    plt.hist(cat_probs, color='red', weights=weights, bins=100)\n",
    "    fig.savefig(\"output2.png\")\n",
    "\n",
    "pickle.dump(PEAKS_MAP, open('peaks_map_thresh%d.pkl' % THRESHOLD, 'wb'))"
   ]
  },
  {
   "cell_type": "code",
   "execution_count": 3,
   "metadata": {},
   "outputs": [],
   "source": [
    "train = pd.read_csv('train.csv')"
   ]
  },
  {
   "cell_type": "code",
   "execution_count": 4,
   "metadata": {},
   "outputs": [],
   "source": [
    "train['param_2'] = train['param_2'].fillna('unknown')\n",
    "train['param_1'] = train['param_1'].fillna('unknown')\n",
    "train['category_name'] = train['category_name'].fillna('unknown')"
   ]
  },
  {
   "cell_type": "code",
   "execution_count": 6,
   "metadata": {},
   "outputs": [],
   "source": [
    "gp = train.groupby(by=['param_1','param_2','category_name'])['deal_probability'].unique()"
   ]
  },
  {
   "cell_type": "code",
   "execution_count": 10,
   "metadata": {},
   "outputs": [
    {
     "data": {
      "text/plain": [
       "param_1     param_2  category_name\n",
       "ASUS        unknown  Телефоны         [0.0, 0.08401, 0.76786, 0.08603999999999999, 0...\n",
       "Acer        unknown  Телефоны         [0.76786, 0.15803, 0.0, 0.43177, 0.27148, 0.22...\n",
       "Alcatel     unknown  Телефоны         [0.0, 0.08693, 0.07851, 0.0899, 0.07074, 0.738...\n",
       "BQ          unknown  Телефоны         [0.0, 0.12754000000000001, 0.18945, 0.76786, 0...\n",
       "BlackBerry  unknown  Телефоны         [0.0, 0.05466, 0.19927, 0.76786, 0.08932000000...\n",
       "Name: deal_probability, dtype: object"
      ]
     },
     "execution_count": 10,
     "metadata": {},
     "output_type": "execute_result"
    }
   ],
   "source": [
    "gp.head()"
   ]
  },
  {
   "cell_type": "code",
   "execution_count": 12,
   "metadata": {},
   "outputs": [],
   "source": [
    "gp = gp.reset_index()"
   ]
  },
  {
   "cell_type": "code",
   "execution_count": 13,
   "metadata": {},
   "outputs": [
    {
     "data": {
      "text/html": [
       "<div>\n",
       "<style scoped>\n",
       "    .dataframe tbody tr th:only-of-type {\n",
       "        vertical-align: middle;\n",
       "    }\n",
       "\n",
       "    .dataframe tbody tr th {\n",
       "        vertical-align: top;\n",
       "    }\n",
       "\n",
       "    .dataframe thead th {\n",
       "        text-align: right;\n",
       "    }\n",
       "</style>\n",
       "<table border=\"1\" class=\"dataframe\">\n",
       "  <thead>\n",
       "    <tr style=\"text-align: right;\">\n",
       "      <th></th>\n",
       "      <th>param_1</th>\n",
       "      <th>param_2</th>\n",
       "      <th>category_name</th>\n",
       "      <th>deal_probability</th>\n",
       "    </tr>\n",
       "  </thead>\n",
       "  <tbody>\n",
       "    <tr>\n",
       "      <th>0</th>\n",
       "      <td>ASUS</td>\n",
       "      <td>unknown</td>\n",
       "      <td>Телефоны</td>\n",
       "      <td>[0.0, 0.08401, 0.76786, 0.08603999999999999, 0...</td>\n",
       "    </tr>\n",
       "    <tr>\n",
       "      <th>1</th>\n",
       "      <td>Acer</td>\n",
       "      <td>unknown</td>\n",
       "      <td>Телефоны</td>\n",
       "      <td>[0.76786, 0.15803, 0.0, 0.43177, 0.27148, 0.22...</td>\n",
       "    </tr>\n",
       "    <tr>\n",
       "      <th>2</th>\n",
       "      <td>Alcatel</td>\n",
       "      <td>unknown</td>\n",
       "      <td>Телефоны</td>\n",
       "      <td>[0.0, 0.08693, 0.07851, 0.0899, 0.07074, 0.738...</td>\n",
       "    </tr>\n",
       "    <tr>\n",
       "      <th>3</th>\n",
       "      <td>BQ</td>\n",
       "      <td>unknown</td>\n",
       "      <td>Телефоны</td>\n",
       "      <td>[0.0, 0.12754000000000001, 0.18945, 0.76786, 0...</td>\n",
       "    </tr>\n",
       "    <tr>\n",
       "      <th>4</th>\n",
       "      <td>BlackBerry</td>\n",
       "      <td>unknown</td>\n",
       "      <td>Телефоны</td>\n",
       "      <td>[0.0, 0.05466, 0.19927, 0.76786, 0.08932000000...</td>\n",
       "    </tr>\n",
       "  </tbody>\n",
       "</table>\n",
       "</div>"
      ],
      "text/plain": [
       "      param_1  param_2 category_name  \\\n",
       "0        ASUS  unknown      Телефоны   \n",
       "1        Acer  unknown      Телефоны   \n",
       "2     Alcatel  unknown      Телефоны   \n",
       "3          BQ  unknown      Телефоны   \n",
       "4  BlackBerry  unknown      Телефоны   \n",
       "\n",
       "                                    deal_probability  \n",
       "0  [0.0, 0.08401, 0.76786, 0.08603999999999999, 0...  \n",
       "1  [0.76786, 0.15803, 0.0, 0.43177, 0.27148, 0.22...  \n",
       "2  [0.0, 0.08693, 0.07851, 0.0899, 0.07074, 0.738...  \n",
       "3  [0.0, 0.12754000000000001, 0.18945, 0.76786, 0...  \n",
       "4  [0.0, 0.05466, 0.19927, 0.76786, 0.08932000000...  "
      ]
     },
     "execution_count": 13,
     "metadata": {},
     "output_type": "execute_result"
    }
   ],
   "source": [
    "gp.head()"
   ]
  },
  {
   "cell_type": "code",
   "execution_count": 14,
   "metadata": {},
   "outputs": [
    {
     "name": "stdout",
     "output_type": "stream",
     "text": [
      "<class 'pandas.core.frame.DataFrame'>\n",
      "RangeIndex: 808 entries, 0 to 807\n",
      "Data columns (total 4 columns):\n",
      "param_1             808 non-null object\n",
      "param_2             808 non-null object\n",
      "category_name       808 non-null object\n",
      "deal_probability    808 non-null object\n",
      "dtypes: object(4)\n",
      "memory usage: 25.3+ KB\n"
     ]
    }
   ],
   "source": [
    "gp.info()"
   ]
  },
  {
   "cell_type": "code",
   "execution_count": 18,
   "metadata": {},
   "outputs": [
    {
     "data": {
      "text/plain": [
       "0"
      ]
     },
     "execution_count": 18,
     "metadata": {},
     "output_type": "execute_result"
    }
   ],
   "source": [
    "0 * 1"
   ]
  },
  {
   "cell_type": "code",
   "execution_count": 19,
   "metadata": {},
   "outputs": [],
   "source": [
    "exact_bins = []\n",
    "for idx, c_row in gp.iterrows():\n",
    "    length = c_row['deal_probability'].shape[0]\n",
    "    deal_probability_a = c_row['deal_probability']\n",
    "    tmp_bin = np.nan\n",
    "    for i in range(length, length+10):\n",
    "        total_set = set(np.linspace(0.0,1.0, num=i))\n",
    "        trigger = 1\n",
    "        for dprob in deal_probability_a:\n",
    "            if(dprob in total_set):\n",
    "                trigger = trigger * 1\n",
    "            else:\n",
    "                trigger = trigger * 0\n",
    "        if(trigger==1):\n",
    "            tmp_bin = i\n",
    "            break\n",
    "    exact_bins.append(tmp_bin)\n",
    "        \n",
    "        \n",
    "    "
   ]
  },
  {
   "cell_type": "code",
   "execution_count": 20,
   "metadata": {},
   "outputs": [
    {
     "data": {
      "text/html": [
       "<div>\n",
       "<style scoped>\n",
       "    .dataframe tbody tr th:only-of-type {\n",
       "        vertical-align: middle;\n",
       "    }\n",
       "\n",
       "    .dataframe tbody tr th {\n",
       "        vertical-align: top;\n",
       "    }\n",
       "\n",
       "    .dataframe thead th {\n",
       "        text-align: right;\n",
       "    }\n",
       "</style>\n",
       "<table border=\"1\" class=\"dataframe\">\n",
       "  <thead>\n",
       "    <tr style=\"text-align: right;\">\n",
       "      <th></th>\n",
       "      <th>param_1</th>\n",
       "      <th>param_2</th>\n",
       "      <th>category_name</th>\n",
       "      <th>deal_probability</th>\n",
       "      <th>exact_bins</th>\n",
       "    </tr>\n",
       "  </thead>\n",
       "  <tbody>\n",
       "    <tr>\n",
       "      <th>0</th>\n",
       "      <td>ASUS</td>\n",
       "      <td>unknown</td>\n",
       "      <td>Телефоны</td>\n",
       "      <td>[0.0, 0.08401, 0.76786, 0.08603999999999999, 0...</td>\n",
       "      <td>NaN</td>\n",
       "    </tr>\n",
       "    <tr>\n",
       "      <th>1</th>\n",
       "      <td>Acer</td>\n",
       "      <td>unknown</td>\n",
       "      <td>Телефоны</td>\n",
       "      <td>[0.76786, 0.15803, 0.0, 0.43177, 0.27148, 0.22...</td>\n",
       "      <td>NaN</td>\n",
       "    </tr>\n",
       "    <tr>\n",
       "      <th>2</th>\n",
       "      <td>Alcatel</td>\n",
       "      <td>unknown</td>\n",
       "      <td>Телефоны</td>\n",
       "      <td>[0.0, 0.08693, 0.07851, 0.0899, 0.07074, 0.738...</td>\n",
       "      <td>NaN</td>\n",
       "    </tr>\n",
       "    <tr>\n",
       "      <th>3</th>\n",
       "      <td>BQ</td>\n",
       "      <td>unknown</td>\n",
       "      <td>Телефоны</td>\n",
       "      <td>[0.0, 0.12754000000000001, 0.18945, 0.76786, 0...</td>\n",
       "      <td>NaN</td>\n",
       "    </tr>\n",
       "    <tr>\n",
       "      <th>4</th>\n",
       "      <td>BlackBerry</td>\n",
       "      <td>unknown</td>\n",
       "      <td>Телефоны</td>\n",
       "      <td>[0.0, 0.05466, 0.19927, 0.76786, 0.08932000000...</td>\n",
       "      <td>NaN</td>\n",
       "    </tr>\n",
       "  </tbody>\n",
       "</table>\n",
       "</div>"
      ],
      "text/plain": [
       "      param_1  param_2 category_name  \\\n",
       "0        ASUS  unknown      Телефоны   \n",
       "1        Acer  unknown      Телефоны   \n",
       "2     Alcatel  unknown      Телефоны   \n",
       "3          BQ  unknown      Телефоны   \n",
       "4  BlackBerry  unknown      Телефоны   \n",
       "\n",
       "                                    deal_probability  exact_bins  \n",
       "0  [0.0, 0.08401, 0.76786, 0.08603999999999999, 0...         NaN  \n",
       "1  [0.76786, 0.15803, 0.0, 0.43177, 0.27148, 0.22...         NaN  \n",
       "2  [0.0, 0.08693, 0.07851, 0.0899, 0.07074, 0.738...         NaN  \n",
       "3  [0.0, 0.12754000000000001, 0.18945, 0.76786, 0...         NaN  \n",
       "4  [0.0, 0.05466, 0.19927, 0.76786, 0.08932000000...         NaN  "
      ]
     },
     "execution_count": 20,
     "metadata": {},
     "output_type": "execute_result"
    }
   ],
   "source": [
    "gp['exact_bins'] = exact_bins\n",
    "gp.head()"
   ]
  },
  {
   "cell_type": "code",
   "execution_count": 24,
   "metadata": {},
   "outputs": [],
   "source": [
    "gp.to_csv('quantum.csv', index=False)"
   ]
  },
  {
   "cell_type": "code",
   "execution_count": 23,
   "metadata": {},
   "outputs": [
    {
     "name": "stderr",
     "output_type": "stream",
     "text": [
      "/home/dcek/anaconda3/lib/python3.6/site-packages/pandas/core/ops.py:816: FutureWarning: elementwise comparison failed; returning scalar instead, but in the future will perform elementwise comparison\n",
      "  result = getattr(x, name)(y)\n"
     ]
    },
    {
     "ename": "TypeError",
     "evalue": "invalid type comparison",
     "output_type": "error",
     "traceback": [
      "\u001b[0;31m---------------------------------------------------------------------------\u001b[0m",
      "\u001b[0;31mTypeError\u001b[0m                                 Traceback (most recent call last)",
      "\u001b[0;32m<ipython-input-23-e6192b412a63>\u001b[0m in \u001b[0;36m<module>\u001b[0;34m()\u001b[0m\n\u001b[0;32m----> 1\u001b[0;31m \u001b[0mgp\u001b[0m\u001b[0;34m[\u001b[0m\u001b[0mgp\u001b[0m\u001b[0;34m[\u001b[0m\u001b[0;34m'exact_bins'\u001b[0m\u001b[0;34m]\u001b[0m\u001b[0;34m!=\u001b[0m\u001b[0;34m''\u001b[0m\u001b[0;34m]\u001b[0m\u001b[0;34m\u001b[0m\u001b[0m\n\u001b[0m",
      "\u001b[0;32m~/anaconda3/lib/python3.6/site-packages/pandas/core/ops.py\u001b[0m in \u001b[0;36mwrapper\u001b[0;34m(self, other, axis)\u001b[0m\n\u001b[1;32m    877\u001b[0m \u001b[0;34m\u001b[0m\u001b[0m\n\u001b[1;32m    878\u001b[0m             \u001b[0;32mwith\u001b[0m \u001b[0mnp\u001b[0m\u001b[0;34m.\u001b[0m\u001b[0merrstate\u001b[0m\u001b[0;34m(\u001b[0m\u001b[0mall\u001b[0m\u001b[0;34m=\u001b[0m\u001b[0;34m'ignore'\u001b[0m\u001b[0;34m)\u001b[0m\u001b[0;34m:\u001b[0m\u001b[0;34m\u001b[0m\u001b[0m\n\u001b[0;32m--> 879\u001b[0;31m                 \u001b[0mres\u001b[0m \u001b[0;34m=\u001b[0m \u001b[0mna_op\u001b[0m\u001b[0;34m(\u001b[0m\u001b[0mvalues\u001b[0m\u001b[0;34m,\u001b[0m \u001b[0mother\u001b[0m\u001b[0;34m)\u001b[0m\u001b[0;34m\u001b[0m\u001b[0m\n\u001b[0m\u001b[1;32m    880\u001b[0m             \u001b[0;32mif\u001b[0m \u001b[0mis_scalar\u001b[0m\u001b[0;34m(\u001b[0m\u001b[0mres\u001b[0m\u001b[0;34m)\u001b[0m\u001b[0;34m:\u001b[0m\u001b[0;34m\u001b[0m\u001b[0m\n\u001b[1;32m    881\u001b[0m                 raise TypeError('Could not compare {typ} type with Series'\n",
      "\u001b[0;32m~/anaconda3/lib/python3.6/site-packages/pandas/core/ops.py\u001b[0m in \u001b[0;36mna_op\u001b[0;34m(x, y)\u001b[0m\n\u001b[1;32m    816\u001b[0m                     \u001b[0mresult\u001b[0m \u001b[0;34m=\u001b[0m \u001b[0mgetattr\u001b[0m\u001b[0;34m(\u001b[0m\u001b[0mx\u001b[0m\u001b[0;34m,\u001b[0m \u001b[0mname\u001b[0m\u001b[0;34m)\u001b[0m\u001b[0;34m(\u001b[0m\u001b[0my\u001b[0m\u001b[0;34m)\u001b[0m\u001b[0;34m\u001b[0m\u001b[0m\n\u001b[1;32m    817\u001b[0m                 \u001b[0;32mif\u001b[0m \u001b[0mresult\u001b[0m \u001b[0;32mis\u001b[0m \u001b[0mNotImplemented\u001b[0m\u001b[0;34m:\u001b[0m\u001b[0;34m\u001b[0m\u001b[0m\n\u001b[0;32m--> 818\u001b[0;31m                     \u001b[0;32mraise\u001b[0m \u001b[0mTypeError\u001b[0m\u001b[0;34m(\u001b[0m\u001b[0;34m\"invalid type comparison\"\u001b[0m\u001b[0;34m)\u001b[0m\u001b[0;34m\u001b[0m\u001b[0m\n\u001b[0m\u001b[1;32m    819\u001b[0m             \u001b[0;32mexcept\u001b[0m \u001b[0mAttributeError\u001b[0m\u001b[0;34m:\u001b[0m\u001b[0;34m\u001b[0m\u001b[0m\n\u001b[1;32m    820\u001b[0m                 \u001b[0mresult\u001b[0m \u001b[0;34m=\u001b[0m \u001b[0mop\u001b[0m\u001b[0;34m(\u001b[0m\u001b[0mx\u001b[0m\u001b[0;34m,\u001b[0m \u001b[0my\u001b[0m\u001b[0;34m)\u001b[0m\u001b[0;34m\u001b[0m\u001b[0m\n",
      "\u001b[0;31mTypeError\u001b[0m: invalid type comparison"
     ]
    }
   ],
   "source": [
    "gp[gp['exact_bins']!='']"
   ]
  },
  {
   "cell_type": "code",
   "execution_count": null,
   "metadata": {},
   "outputs": [],
   "source": [
    "gp['exact_bins']"
   ]
  },
  {
   "cell_type": "code",
   "execution_count": 16,
   "metadata": {},
   "outputs": [
    {
     "data": {
      "text/plain": [
       "808"
      ]
     },
     "execution_count": 16,
     "metadata": {},
     "output_type": "execute_result"
    }
   ],
   "source": [
    "len(gp)"
   ]
  },
  {
   "cell_type": "code",
   "execution_count": null,
   "metadata": {},
   "outputs": [],
   "source": []
  }
 ],
 "metadata": {
  "kernelspec": {
   "display_name": "Python 3",
   "language": "python",
   "name": "python3"
  },
  "language_info": {
   "codemirror_mode": {
    "name": "ipython",
    "version": 3
   },
   "file_extension": ".py",
   "mimetype": "text/x-python",
   "name": "python",
   "nbconvert_exporter": "python",
   "pygments_lexer": "ipython3",
   "version": "3.6.4"
  }
 },
 "nbformat": 4,
 "nbformat_minor": 2
}
